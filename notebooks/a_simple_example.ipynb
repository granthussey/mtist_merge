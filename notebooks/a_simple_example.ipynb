{
 "cells": [
  {
   "cell_type": "code",
   "execution_count": 1,
   "id": "ef25a09b-27ae-410d-8996-a57cc73c8c7c",
   "metadata": {},
   "outputs": [],
   "source": [
    "import mtist.lvsimulator as lvs\n",
    "import mtist.lvutils as utils\n",
    "import numpy as np\n",
    "import matplotlib.pyplot as plt"
   ]
  },
  {
   "cell_type": "markdown",
   "id": "ed6b591e-e3d9-43a3-8b63-f5a3f8832999",
   "metadata": {},
   "source": [
    "Create dictionaries describing species"
   ]
  },
  {
   "cell_type": "code",
   "execution_count": 2,
   "id": "f6e5815d-6a9a-4a9a-a4ba-14b1e4de90f1",
   "metadata": {},
   "outputs": [],
   "source": [
    "species_names = [f'species_{i}' for i in range(5)]\n",
    "ecosystem = {sp:dict(\n",
    "    (spi,np.random.randn()) if sp!=spi else (sp,-1) for spi in species_names)\n",
    "               for sp in species_names}\n",
    "\n",
    "interaction_matrix = utils.construct_ecosystem(species_names,\n",
    "                                               ecosystem)\n",
    "\n",
    "growth_mu = {sp:np.abs(np.random.randn()/2) for sp in species_names}\n",
    "species_styles = {sp:{'c':'lightgrey', 's':'-','w':1} for sp in species_names}"
   ]
  },
  {
   "cell_type": "markdown",
   "id": "a86cddf0-8450-4949-870f-e782b38947f5",
   "metadata": {},
   "source": [
    "Instantiate the generalized Lotka-Volterra object with these dictionaries"
   ]
  },
  {
   "cell_type": "code",
   "execution_count": 3,
   "id": "09783e1d-f6c0-405f-9a3e-101d2e9e9786",
   "metadata": {},
   "outputs": [],
   "source": [
    "LV = lvs.LV(ecosystem=ecosystem, \n",
    "            growth_rates=growth_mu, \n",
    "            species_styles=species_styles)"
   ]
  },
  {
   "cell_type": "markdown",
   "id": "a284bdad-d544-4247-b5ad-90e9394908dc",
   "metadata": {},
   "source": [
    "Simulate and plot initial conditions and time series."
   ]
  },
  {
   "cell_type": "code",
   "execution_count": 5,
   "id": "9abc49b1-d1b8-44a5-899a-1e340248a235",
   "metadata": {},
   "outputs": [
    {
     "data": {
      "image/png": "[encoded data removed]",
      "text/plain": [
       "<Figure size 504x216 with 2 Axes>"
      ]
     },
     "metadata": {},
     "output_type": "display_data"
    }
   ],
   "source": [
    "fig, ax1, ax2 = LV.plot_lv()\n",
    "fig.set_size_inches(7,3)\n",
    "ax2.spines['top'].set_visible(False)\n",
    "ax2.spines['right'].set_visible(False)"
   ]
  }
 ],
 "metadata": {
  "kernelspec": {
   "display_name": "Python 3",
   "language": "python",
   "name": "python3"
  },
  "language_info": {
   "codemirror_mode": {
    "name": "ipython",
    "version": 3
   },
   "file_extension": ".py",
   "mimetype": "text/x-python",
   "name": "python",
   "nbconvert_exporter": "python",
   "pygments_lexer": "ipython3",
   "version": "3.8.0"
  }
 },
 "nbformat": 4,
 "nbformat_minor": 5
}
